{
 "cells": [
  {
   "cell_type": "code",
   "execution_count": 37,
   "metadata": {},
   "outputs": [],
   "source": [
    "import requests\n",
    "import pandas as pd"
   ]
  },
  {
   "cell_type": "code",
   "execution_count": 38,
   "metadata": {},
   "outputs": [],
   "source": [
    "#API Banxico\n",
    "banxico_key = \"85c8edeab72128102cdad764f0a2d4532c336d22690a51104b500fb6f077ed4c\""
   ]
  },
  {
   "cell_type": "code",
   "execution_count": 39,
   "metadata": {},
   "outputs": [],
   "source": [
    "url = \"https://www.banxico.org.mx/SieAPIRest/service/v1/series/\""
   ]
  },
  {
   "cell_type": "code",
   "execution_count": 75,
   "metadata": {},
   "outputs": [],
   "source": [
    "#Series\n",
    "# Serie de fondeo SF283\n",
    "Series_fondeo = 'SF283'\n",
    "#Total series prestamos\n",
    "Series_prestamos = \"SF235757\""
   ]
  },
  {
   "cell_type": "code",
   "execution_count": 76,
   "metadata": {},
   "outputs": [],
   "source": [
    "#Fechas AAAA-MM-dd\n",
    "#fecha_inicial = input(print(\"Fecha inicial consulta AAAA-MM-dd\"))\n",
    "fecha_inicial = \"1999-01-01\"\n",
    "fecha_final = \"2019-12-31\"\n",
    "#fecha_final = input(print(\"Fecha final consulta AAAA-MM-dd\"))"
   ]
  },
  {
   "cell_type": "code",
   "execution_count": 123,
   "metadata": {},
   "outputs": [
    {
     "data": {
      "text/html": [
       "<div>\n",
       "<style scoped>\n",
       "    .dataframe tbody tr th:only-of-type {\n",
       "        vertical-align: middle;\n",
       "    }\n",
       "\n",
       "    .dataframe tbody tr th {\n",
       "        vertical-align: top;\n",
       "    }\n",
       "\n",
       "    .dataframe thead th {\n",
       "        text-align: right;\n",
       "    }\n",
       "</style>\n",
       "<table border=\"1\" class=\"dataframe\">\n",
       "  <thead>\n",
       "    <tr style=\"text-align: right;\">\n",
       "      <th></th>\n",
       "      <th>date</th>\n",
       "      <th>policy_rate</th>\n",
       "    </tr>\n",
       "  </thead>\n",
       "  <tbody>\n",
       "    <tr>\n",
       "      <td>247</td>\n",
       "      <td>01/08/2019</td>\n",
       "      <td>8.37</td>\n",
       "    </tr>\n",
       "    <tr>\n",
       "      <td>248</td>\n",
       "      <td>01/09/2019</td>\n",
       "      <td>8.20</td>\n",
       "    </tr>\n",
       "    <tr>\n",
       "      <td>249</td>\n",
       "      <td>01/10/2019</td>\n",
       "      <td>8.00</td>\n",
       "    </tr>\n",
       "    <tr>\n",
       "      <td>250</td>\n",
       "      <td>01/11/2019</td>\n",
       "      <td>7.87</td>\n",
       "    </tr>\n",
       "    <tr>\n",
       "      <td>251</td>\n",
       "      <td>01/12/2019</td>\n",
       "      <td>7.70</td>\n",
       "    </tr>\n",
       "  </tbody>\n",
       "</table>\n",
       "</div>"
      ],
      "text/plain": [
       "           date policy_rate\n",
       "247  01/08/2019        8.37\n",
       "248  01/09/2019        8.20\n",
       "249  01/10/2019        8.00\n",
       "250  01/11/2019        7.87\n",
       "251  01/12/2019        7.70"
      ]
     },
     "execution_count": 123,
     "metadata": {},
     "output_type": "execute_result"
    }
   ],
   "source": [
    "#DAto Fondeo\n",
    "url_consulta_tasa = f\"{url}{Series_fondeo}/datos/{fecha_inicial}/{fecha_final}?token={banxico_key}\"\n",
    "data = requests.get(url_consulta).json()\n",
    "fondeo_data = data['bmx']['series'][0]['datos']\n",
    "fondeo_data_df = pd.DataFrame(fondeo_data)\n",
    "fondeo_data_df.rename(columns = {'fecha' : 'date', 'dato':'policy_rate'}, inplace = True)\n",
    "#fondeo_data_df.set_index('id', inplace = True)\n",
    "fondeo_data_df.tail()\n"
   ]
  },
  {
   "cell_type": "code",
   "execution_count": 124,
   "metadata": {},
   "outputs": [
    {
     "data": {
      "text/html": [
       "<div>\n",
       "<style scoped>\n",
       "    .dataframe tbody tr th:only-of-type {\n",
       "        vertical-align: middle;\n",
       "    }\n",
       "\n",
       "    .dataframe tbody tr th {\n",
       "        vertical-align: top;\n",
       "    }\n",
       "\n",
       "    .dataframe thead th {\n",
       "        text-align: right;\n",
       "    }\n",
       "</style>\n",
       "<table border=\"1\" class=\"dataframe\">\n",
       "  <thead>\n",
       "    <tr style=\"text-align: right;\">\n",
       "      <th></th>\n",
       "      <th>date</th>\n",
       "      <th>total_loans</th>\n",
       "    </tr>\n",
       "  </thead>\n",
       "  <tbody>\n",
       "    <tr>\n",
       "      <td>247</td>\n",
       "      <td>01/08/2019</td>\n",
       "      <td>4,688,826,865.00</td>\n",
       "    </tr>\n",
       "    <tr>\n",
       "      <td>248</td>\n",
       "      <td>01/09/2019</td>\n",
       "      <td>4,663,167,704.00</td>\n",
       "    </tr>\n",
       "    <tr>\n",
       "      <td>249</td>\n",
       "      <td>01/10/2019</td>\n",
       "      <td>4,641,863,408.00</td>\n",
       "    </tr>\n",
       "    <tr>\n",
       "      <td>250</td>\n",
       "      <td>01/11/2019</td>\n",
       "      <td>4,713,995,432.00</td>\n",
       "    </tr>\n",
       "    <tr>\n",
       "      <td>251</td>\n",
       "      <td>01/12/2019</td>\n",
       "      <td>4,672,516,126.00</td>\n",
       "    </tr>\n",
       "  </tbody>\n",
       "</table>\n",
       "</div>"
      ],
      "text/plain": [
       "           date       total_loans\n",
       "247  01/08/2019  4,688,826,865.00\n",
       "248  01/09/2019  4,663,167,704.00\n",
       "249  01/10/2019  4,641,863,408.00\n",
       "250  01/11/2019  4,713,995,432.00\n",
       "251  01/12/2019  4,672,516,126.00"
      ]
     },
     "execution_count": 124,
     "metadata": {},
     "output_type": "execute_result"
    }
   ],
   "source": [
    "#Dato Prestamo\n",
    "url_consulta_loans = f\"{url}{Series_prestamos}/datos/{fecha_inicial}/{fecha_final}?token={banxico_key}\"\n",
    "data_loans = requests.get(url_consulta_loans).json()\n",
    "loans_data = data_loans['bmx']['series'][0]['datos']\n",
    "loans_data_df = pd.DataFrame(loans_data)\n",
    "loans_data_df.rename(columns = {'fecha' : 'date', 'dato':'total_loans'}, inplace = True)\n",
    "#loans_data_df.set_index('id', inplace = True)\n",
    "loans_data_df.tail()\n"
   ]
  },
  {
   "cell_type": "code",
   "execution_count": 125,
   "metadata": {},
   "outputs": [],
   "source": [
    "from sqlalchemy import create_engine\n",
    "rds_connection_string = \"postgres:<password>@localhost:5432/customer_db\"\n",
    "engine = create_engine(f'postgresql://{rds_connection_string}')"
   ]
  },
  {
   "cell_type": "code",
   "execution_count": 126,
   "metadata": {},
   "outputs": [
    {
     "data": {
      "text/plain": [
       "[]"
      ]
     },
     "execution_count": 126,
     "metadata": {},
     "output_type": "execute_result"
    }
   ],
   "source": [
    "engine.table_names()"
   ]
  },
  {
   "cell_type": "code",
   "execution_count": null,
   "metadata": {},
   "outputs": [],
   "source": []
  },
  {
   "cell_type": "code",
   "execution_count": 127,
   "metadata": {},
   "outputs": [],
   "source": [
    "loans_data_df.to_sql(name = 'rates', con = engine, if_exists = 'append', index = True)\n",
    "fondeo_data_df.to_sql(name = 'loans', con = engine, if_exists = 'append', index = True)"
   ]
  },
  {
   "cell_type": "code",
   "execution_count": null,
   "metadata": {},
   "outputs": [],
   "source": []
  }
 ],
 "metadata": {
  "kernelspec": {
   "display_name": "Python 3",
   "language": "python",
   "name": "python3"
  },
  "language_info": {
   "codemirror_mode": {
    "name": "ipython",
    "version": 3
   },
   "file_extension": ".py",
   "mimetype": "text/x-python",
   "name": "python",
   "nbconvert_exporter": "python",
   "pygments_lexer": "ipython3",
   "version": "3.7.4"
  }
 },
 "nbformat": 4,
 "nbformat_minor": 2
}
