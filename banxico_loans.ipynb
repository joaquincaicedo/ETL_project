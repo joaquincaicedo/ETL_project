{
 "cells": [
  {
   "cell_type": "code",
   "execution_count": 26,
   "metadata": {},
   "outputs": [],
   "source": [
    "import requests\n",
    "import pandas as pd"
   ]
  },
  {
   "cell_type": "code",
   "execution_count": 27,
   "metadata": {},
   "outputs": [],
   "source": [
    "#API Banxico\n",
    "banxico_key = \"85c8edeab72128102cdad764f0a2d4532c336d22690a51104b500fb6f077ed4c\""
   ]
  },
  {
   "cell_type": "code",
   "execution_count": 28,
   "metadata": {},
   "outputs": [],
   "source": [
    "url = \"https://www.banxico.org.mx/SieAPIRest/service/v1/series/\""
   ]
  },
  {
   "cell_type": "code",
   "execution_count": 69,
   "metadata": {},
   "outputs": [],
   "source": [
    "#Serie recursos totales Cartera de credito SF315015\n",
    "# Serie de fondeo SF283\n",
    "#Total series\n",
    "Series = \"SF283\""
   ]
  },
  {
   "cell_type": "code",
   "execution_count": 70,
   "metadata": {},
   "outputs": [],
   "source": [
    "#Fechas AAAA-MM-dd\n",
    "#fecha_inicial = input(print(\"Fecha inicial consulta AAAA-MM-dd\"))\n",
    "fecha_inicial = \"1990-01-01\"\n",
    "fecha_final = \"2019-12-31\"\n",
    "#fecha_final = input(print(\"Fecha final consulta AAAA-MM-dd\"))"
   ]
  },
  {
   "cell_type": "code",
   "execution_count": 71,
   "metadata": {},
   "outputs": [],
   "source": [
    "url_consulta = f\"{url}{Series}/datos/{fecha_inicial}/{fecha_final}?token={banxico_key}\""
   ]
  },
  {
   "cell_type": "code",
   "execution_count": 72,
   "metadata": {},
   "outputs": [
    {
     "data": {
      "text/html": [
       "<div>\n",
       "<style scoped>\n",
       "    .dataframe tbody tr th:only-of-type {\n",
       "        vertical-align: middle;\n",
       "    }\n",
       "\n",
       "    .dataframe tbody tr th {\n",
       "        vertical-align: top;\n",
       "    }\n",
       "\n",
       "    .dataframe thead th {\n",
       "        text-align: right;\n",
       "    }\n",
       "</style>\n",
       "<table border=\"1\" class=\"dataframe\">\n",
       "  <thead>\n",
       "    <tr style=\"text-align: right;\">\n",
       "      <th></th>\n",
       "      <th>fecha</th>\n",
       "      <th>dato</th>\n",
       "    </tr>\n",
       "  </thead>\n",
       "  <tbody>\n",
       "    <tr>\n",
       "      <td>0</td>\n",
       "      <td>01/03/1995</td>\n",
       "      <td>89.48</td>\n",
       "    </tr>\n",
       "    <tr>\n",
       "      <td>1</td>\n",
       "      <td>01/04/1995</td>\n",
       "      <td>85.22</td>\n",
       "    </tr>\n",
       "    <tr>\n",
       "      <td>2</td>\n",
       "      <td>01/05/1995</td>\n",
       "      <td>60.45</td>\n",
       "    </tr>\n",
       "    <tr>\n",
       "      <td>3</td>\n",
       "      <td>01/06/1995</td>\n",
       "      <td>49.50</td>\n",
       "    </tr>\n",
       "    <tr>\n",
       "      <td>4</td>\n",
       "      <td>01/07/1995</td>\n",
       "      <td>43.00</td>\n",
       "    </tr>\n",
       "    <tr>\n",
       "      <td>...</td>\n",
       "      <td>...</td>\n",
       "      <td>...</td>\n",
       "    </tr>\n",
       "    <tr>\n",
       "      <td>293</td>\n",
       "      <td>01/08/2019</td>\n",
       "      <td>8.37</td>\n",
       "    </tr>\n",
       "    <tr>\n",
       "      <td>294</td>\n",
       "      <td>01/09/2019</td>\n",
       "      <td>8.20</td>\n",
       "    </tr>\n",
       "    <tr>\n",
       "      <td>295</td>\n",
       "      <td>01/10/2019</td>\n",
       "      <td>8.00</td>\n",
       "    </tr>\n",
       "    <tr>\n",
       "      <td>296</td>\n",
       "      <td>01/11/2019</td>\n",
       "      <td>7.87</td>\n",
       "    </tr>\n",
       "    <tr>\n",
       "      <td>297</td>\n",
       "      <td>01/12/2019</td>\n",
       "      <td>7.70</td>\n",
       "    </tr>\n",
       "  </tbody>\n",
       "</table>\n",
       "<p>298 rows × 2 columns</p>\n",
       "</div>"
      ],
      "text/plain": [
       "          fecha   dato\n",
       "0    01/03/1995  89.48\n",
       "1    01/04/1995  85.22\n",
       "2    01/05/1995  60.45\n",
       "3    01/06/1995  49.50\n",
       "4    01/07/1995  43.00\n",
       "..          ...    ...\n",
       "293  01/08/2019   8.37\n",
       "294  01/09/2019   8.20\n",
       "295  01/10/2019   8.00\n",
       "296  01/11/2019   7.87\n",
       "297  01/12/2019   7.70\n",
       "\n",
       "[298 rows x 2 columns]"
      ]
     },
     "execution_count": 72,
     "metadata": {},
     "output_type": "execute_result"
    }
   ],
   "source": [
    "data = requests.get(url_consulta).json()\n",
    "clean_data = data['bmx']['series'][0]['datos']\n",
    "data_df = pd.DataFrame(clean_data)\n",
    "data_df"
   ]
  },
  {
   "cell_type": "code",
   "execution_count": null,
   "metadata": {},
   "outputs": [],
   "source": []
  },
  {
   "cell_type": "code",
   "execution_count": 76,
   "metadata": {},
   "outputs": [
    {
     "data": {
      "text/html": [
       "<div>\n",
       "<style scoped>\n",
       "    .dataframe tbody tr th:only-of-type {\n",
       "        vertical-align: middle;\n",
       "    }\n",
       "\n",
       "    .dataframe tbody tr th {\n",
       "        vertical-align: top;\n",
       "    }\n",
       "\n",
       "    .dataframe thead th {\n",
       "        text-align: right;\n",
       "    }\n",
       "</style>\n",
       "<table border=\"1\" class=\"dataframe\">\n",
       "  <thead>\n",
       "    <tr style=\"text-align: right;\">\n",
       "      <th></th>\n",
       "      <th>0</th>\n",
       "      <th>1</th>\n",
       "      <th>2</th>\n",
       "    </tr>\n",
       "  </thead>\n",
       "  <tbody>\n",
       "    <tr>\n",
       "      <td>121</td>\n",
       "      <td>2009111</td>\n",
       "      <td>561,130</td>\n",
       "      <td>$276,920,395,974.00</td>\n",
       "    </tr>\n",
       "    <tr>\n",
       "      <td>122</td>\n",
       "      <td>2009101</td>\n",
       "      <td>529,373</td>\n",
       "      <td>$260,501,899,402.00</td>\n",
       "    </tr>\n",
       "    <tr>\n",
       "      <td>123</td>\n",
       "      <td>2009091</td>\n",
       "      <td>528,115</td>\n",
       "      <td>$258,170,933,813.00</td>\n",
       "    </tr>\n",
       "    <tr>\n",
       "      <td>124</td>\n",
       "      <td>2009081</td>\n",
       "      <td>522,014</td>\n",
       "      <td>$253,667,372,857.00</td>\n",
       "    </tr>\n",
       "    <tr>\n",
       "      <td>125</td>\n",
       "      <td>2009071</td>\n",
       "      <td>535,473</td>\n",
       "      <td>$258,325,877,604.00</td>\n",
       "    </tr>\n",
       "  </tbody>\n",
       "</table>\n",
       "</div>"
      ],
      "text/plain": [
       "           0        1                    2\n",
       "121  2009111  561,130  $276,920,395,974.00\n",
       "122  2009101  529,373  $260,501,899,402.00\n",
       "123  2009091  528,115  $258,170,933,813.00\n",
       "124  2009081  522,014  $253,667,372,857.00\n",
       "125  2009071  535,473  $258,325,877,604.00"
      ]
     },
     "execution_count": 76,
     "metadata": {},
     "output_type": "execute_result"
    }
   ],
   "source": [
    "#CSV CNV Historico Hipotecarios\n",
    "csv_file = \"credito_hipotecario.csv\"\n",
    "customer_data_df = pd.read_csv(csv_file, header = None)\n",
    "customer_data_df.tail()\n",
    "#Poner titulo a columnas. dates, loan_counts, total_loans\n",
    "#cambiar formato fecha igual al del DF de arriba\n",
    "# Crear columna nueva ticket pro\n",
    "#customer_data_df['tiket_promedio'] = data['total_loans'] / data['loan_counts']"
   ]
  },
  {
   "cell_type": "code",
   "execution_count": null,
   "metadata": {},
   "outputs": [],
   "source": []
  }
 ],
 "metadata": {
  "kernelspec": {
   "display_name": "Python 3",
   "language": "python",
   "name": "python3"
  },
  "language_info": {
   "codemirror_mode": {
    "name": "ipython",
    "version": 3
   },
   "file_extension": ".py",
   "mimetype": "text/x-python",
   "name": "python",
   "nbconvert_exporter": "python",
   "pygments_lexer": "ipython3",
   "version": "3.7.4"
  }
 },
 "nbformat": 4,
 "nbformat_minor": 2
}
