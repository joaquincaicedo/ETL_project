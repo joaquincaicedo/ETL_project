{
 "cells": [
  {
   "cell_type": "code",
   "execution_count": 2,
   "metadata": {},
   "outputs": [],
   "source": [
    "import requests"
   ]
  },
  {
   "cell_type": "code",
   "execution_count": 3,
   "metadata": {},
   "outputs": [],
   "source": [
    "#API Banxico\n",
    "banxico_key = \"85c8edeab72128102cdad764f0a2d4532c336d22690a51104b500fb6f077ed4c\""
   ]
  },
  {
   "cell_type": "code",
   "execution_count": 4,
   "metadata": {},
   "outputs": [],
   "source": [
    "url = \"https://www.banxico.org.mx/SieAPIRest/service/v1/series/\""
   ]
  },
  {
   "cell_type": "code",
   "execution_count": 17,
   "metadata": {},
   "outputs": [],
   "source": [
    "#Serie inflacion \"SP30577\"\n",
    "#serie inflacion subyacente \"SP74660\"\n",
    "#serie tasa de cambio cierre \"SF43788\"\n",
    "\n",
    "#Total series\n",
    "Series = \"SF43788\""
   ]
  },
  {
   "cell_type": "code",
   "execution_count": 18,
   "metadata": {},
   "outputs": [],
   "source": [
    "#Fechas AAAA-MM-dd\n",
    "#fecha_inicial = input(print(\"Fecha inicial consulta AAAA-MM-dd\"))\n",
    "fecha_inicial = \"2019-11-14\"\n",
    "fecha_final = \"2019-12-19\"\n",
    "#fecha_final = input(print(\"Fecha final consulta AAAA-MM-dd\"))"
   ]
  },
  {
   "cell_type": "code",
   "execution_count": 19,
   "metadata": {},
   "outputs": [],
   "source": [
    "url_consulta = f\"{url}{Series}/datos/{fecha_inicial}/{fecha_final}?token={banxico_key}\""
   ]
  },
  {
   "cell_type": "code",
   "execution_count": 20,
   "metadata": {},
   "outputs": [
    {
     "data": {
      "text/plain": [
       "{'bmx': {'series': [{'idSerie': 'SF43788',\n",
       "    'titulo': 'Tipo de cambio pesos por dólar E.U.A. Interbancario a 48 horas Cierre compra',\n",
       "    'datos': [{'fecha': '14/11/2019', 'dato': '19.3760'},\n",
       "     {'fecha': '15/11/2019', 'dato': '19.2087'},\n",
       "     {'fecha': '19/11/2019', 'dato': '19.3580'},\n",
       "     {'fecha': '20/11/2019', 'dato': '19.4830'},\n",
       "     {'fecha': '21/11/2019', 'dato': '19.3850'},\n",
       "     {'fecha': '22/11/2019', 'dato': '19.3820'},\n",
       "     {'fecha': '25/11/2019', 'dato': '19.4370'},\n",
       "     {'fecha': '26/11/2019', 'dato': '19.5615'},\n",
       "     {'fecha': '27/11/2019', 'dato': '19.5450'},\n",
       "     {'fecha': '28/11/2019', 'dato': '19.5545'},\n",
       "     {'fecha': '29/11/2019', 'dato': '19.5480'},\n",
       "     {'fecha': '02/12/2019', 'dato': '19.5680'},\n",
       "     {'fecha': '03/12/2019', 'dato': '19.5795'},\n",
       "     {'fecha': '04/12/2019', 'dato': '19.4375'},\n",
       "     {'fecha': '05/12/2019', 'dato': '19.3475'},\n",
       "     {'fecha': '06/12/2019', 'dato': '19.2890'},\n",
       "     {'fecha': '09/12/2019', 'dato': '19.2300'},\n",
       "     {'fecha': '10/12/2019', 'dato': '19.2430'},\n",
       "     {'fecha': '11/12/2019', 'dato': '19.1410'},\n",
       "     {'fecha': '13/12/2019', 'dato': '19.0460'},\n",
       "     {'fecha': '16/12/2019', 'dato': '18.9365'},\n",
       "     {'fecha': '17/12/2019', 'dato': '18.9140'},\n",
       "     {'fecha': '18/12/2019', 'dato': '18.9570'},\n",
       "     {'fecha': '19/12/2019', 'dato': '18.9480'}]}]}}"
      ]
     },
     "execution_count": 20,
     "metadata": {},
     "output_type": "execute_result"
    }
   ],
   "source": [
    "data=requests.get(url_consulta).json()\n",
    "data"
   ]
  },
  {
   "cell_type": "code",
   "execution_count": null,
   "metadata": {},
   "outputs": [],
   "source": [
    "\n",
    "for query in url_consulta: \n",
    "    data=requests.get(query).json()\n",
    "    fxt.append(data[\"bmx\"][\"series\"][0][\"datos\"][0][\"dato\"])\n",
    "    fxt_1.append(data[\"bmx\"][\"series\"][0][\"datos\"][1][\"dato\"])"
   ]
  }
 ],
 "metadata": {
  "kernelspec": {
   "display_name": "Python 3",
   "language": "python",
   "name": "python3"
  },
  "language_info": {
   "codemirror_mode": {
    "name": "ipython",
    "version": 3
   },
   "file_extension": ".py",
   "mimetype": "text/x-python",
   "name": "python",
   "nbconvert_exporter": "python",
   "pygments_lexer": "ipython3",
   "version": "3.7.4"
  }
 },
 "nbformat": 4,
 "nbformat_minor": 2
}
